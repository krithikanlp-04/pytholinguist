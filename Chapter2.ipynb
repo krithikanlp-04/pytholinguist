{
 "cells": [
  {
   "cell_type": "markdown",
   "metadata": {},
   "source": [
    "## Assignment Chapter II                                                                                                \n"
   ]
  },
  {
   "cell_type": "markdown",
   "metadata": {},
   "source": [
    "#### Q1. Snippet below\n"
   ]
  },
  {
   "cell_type": "code",
   "execution_count": 8,
   "metadata": {},
   "outputs": [
    {
     "data": {
      "text/plain": [
       "True"
      ]
     },
     "execution_count": 8,
     "metadata": {},
     "output_type": "execute_result"
    }
   ],
   "source": [
    "isinstance(bool == bool,bool)"
   ]
  },
  {
   "cell_type": "markdown",
   "metadata": {},
   "source": [
    "#### A1.The value returned is true. The isinstance function checks to see if the type of value returned by parameter 1 is the same as parameter 2. In the above snippet, we evaluate the expression [class types are compared here.] Since this is true, which is a boolean value the command returns true. A comparison operator like == always gives a boolean value hence the output of a command like the above is always true\n",
    "\n",
    "\n"
   ]
  },
  {
   "cell_type": "markdown",
   "metadata": {
    "scrolled": true
   },
   "source": [
    "#### Q2. What does this code do: a = 3 == 3? What is the result and why? What’s the difference between that code snippet and this one: \n",
    "\n"
   ]
  },
  {
   "cell_type": "code",
   "execution_count": 9,
   "metadata": {},
   "outputs": [
    {
     "ename": "SyntaxError",
     "evalue": "cannot assign to comparison (<ipython-input-9-e69829affb67>, line 3)",
     "output_type": "error",
     "traceback": [
      "\u001b[1;36m  File \u001b[1;32m\"<ipython-input-9-e69829affb67>\"\u001b[1;36m, line \u001b[1;32m3\u001b[0m\n\u001b[1;33m    a==3=3\u001b[0m\n\u001b[1;37m    ^\u001b[0m\n\u001b[1;31mSyntaxError\u001b[0m\u001b[1;31m:\u001b[0m cannot assign to comparison\n"
     ]
    }
   ],
   "source": [
    "a=3==3\n",
    "print(a)\n",
    "a==3=3\n",
    "\n"
   ]
  },
  {
   "cell_type": "markdown",
   "metadata": {},
   "source": [
    "#### A2 The first part of the snippet does not produce any result. The snippet merely assigns variable name \"a\" the value that is returned from the expression 3==3 (the value returned is true). If we proceed to print the value of a using the command then we get the output : true                                                                                                                                                                                                  a==3=3 this line produces an error because the LHS is a comparison expression which cannot be assigned any values.                            LHS can only be a variable name to which some value can be assigned\n"
   ]
  },
  {
   "cell_type": "markdown",
   "metadata": {},
   "source": [
    "#### Q3. Write three lines of code that: (i) create a variable with the value 37; (ii) create another variable with the value 4; (iii) print out the result of multiplying those together.\n"
   ]
  },
  {
   "cell_type": "code",
   "execution_count": null,
   "metadata": {
    "scrolled": true
   },
   "outputs": [],
   "source": [
    "\n",
    "var1=37\n",
    "var2=4\n",
    "print(var1*var2)"
   ]
  },
  {
   "cell_type": "markdown",
   "metadata": {},
   "source": [
    "#### Q4. Write three lines of code that: (i) create a string transformational; (ii) create a string grammar; (iii) concatenate those together and print the result. (Make sure there is a space between the two words!)\n"
   ]
  },
  {
   "cell_type": "code",
   "execution_count": 10,
   "metadata": {},
   "outputs": [
    {
     "name": "stdout",
     "output_type": "stream",
     "text": [
      "transformational grammar\n"
     ]
    }
   ],
   "source": [
    "str1=\"transformational\"\n",
    "str2 =\"grammar\"\n",
    "print(str1+\" \"+str2)"
   ]
  },
  {
   "cell_type": "markdown",
   "metadata": {},
   "source": [
    "#### Q5. Explain what the following bit of code does and why it’s a bad idea:\n",
    "\n"
   ]
  },
  {
   "cell_type": "code",
   "execution_count": 11,
   "metadata": {},
   "outputs": [
    {
     "name": "stdout",
     "output_type": "stream",
     "text": [
      "no\n",
      "yes\n"
     ]
    }
   ],
   "source": [
    "yes = 'no'\n",
    "no = 'yes'\n",
    "\n",
    "print(yes)\n",
    "print(no)\n"
   ]
  },
  {
   "cell_type": "markdown",
   "metadata": {},
   "source": [
    "#### A5. The snippet creates 2 strings named yes and no which contain the values \"no\" and \"yes\" respectively. While this does not give any errors, this is not recommended because the variable names are misleading. they do not convey the contents of the variable correctly. The print commands listed give an example of the confusion that these may create. When the code is read or executed by one at a later point or by another user, this may prove confusing. It is a good practice to give meaningful and readable variable names."
   ]
  },
  {
   "cell_type": "markdown",
   "metadata": {},
   "source": [
    "#### Q6. Write a single line of code that tests whether 73 is greater than 15 x 16.\n",
    "\n"
   ]
  },
  {
   "cell_type": "code",
   "execution_count": 12,
   "metadata": {},
   "outputs": [
    {
     "name": "stdout",
     "output_type": "stream",
     "text": [
      "False\n"
     ]
    }
   ],
   "source": [
    "print(73>15*16)   "
   ]
  },
  {
   "cell_type": "markdown",
   "metadata": {},
   "source": [
    "#### Q7. Explain what’s going on below; is x mutable?"
   ]
  },
  {
   "cell_type": "code",
   "execution_count": 13,
   "metadata": {},
   "outputs": [],
   "source": [
    "x = 'abc'\n",
    "x= x.upper()\n"
   ]
  },
  {
   "cell_type": "markdown",
   "metadata": {},
   "source": [
    "#### A7. In the above snippet a string with value 'abc' is given the name x. Strings are immutable. Hence when the 2nd line is executed the value of x.upper() returned is 'ABC'. but since x is not mutable, the original string ('abc') still exists but the name x is reassigned to the new element 'ABC'. the previous string 'abc' now becomes available for garbage collection. Mutability would imply that x is an element that gets reassigned with a different value"
   ]
  },
  {
   "cell_type": "markdown",
   "metadata": {},
   "source": [
    "#### Q8. Semitic morphology involves intercalating vowels and consonants to express morphological categories. How might you use format() to describe this system? Give a sample representation for the root k,t,b and show how format() could be used to express different categories.\n",
    "\n"
   ]
  },
  {
   "cell_type": "code",
   "execution_count": 14,
   "metadata": {},
   "outputs": [
    {
     "name": "stdout",
     "output_type": "stream",
     "text": [
      "He wrote: kataba\n",
      "book: kitab\n",
      "It was written: kutiba\n",
      "He corresponded: kaataba\n",
      "He wrote: kataba,\n",
      "It was written: kutiba\n"
     ]
    }
   ],
   "source": [
    "#Root ktb interspersed with vowels to form patterns like CVCVCV, CVVCVCV, VCCVC etc\n",
    "root='ktb'\n",
    "vowel=' aiu'\n",
    "\n",
    "\n",
    "# if we break down the morphology in terms of person, voice, gender, case\n",
    "\n",
    "rep1 = \"He wrote: \"\n",
    "rep2 = \"book: \"\n",
    "rep3 = \"It was written: \"\n",
    "rep4 =\"He corresponded: \"\n",
    "\n",
    "hewrote=rep1+\"{3}{3}\"+root[0]+\"{0}{3}\"+root[1]+\"{0}{3}\"+root[2]+\"{0}{3}\"\n",
    "print(hewrote.format('a','i','u',''))\n",
    "book = rep2 +\"{3}{3}\"+root[0]+\"{1}{3}\"+root[1]+\"{0}{3}\"+root[2]+\"{3}{3}\"\n",
    "print(book.format('a','i','u',''))\n",
    "itwaswritten = rep3+ \"{3}{3}\"+root[0]+\"{2}{3}\"+root[1]+\"{1}{3}\"+root[2]+\"{0}{3}\"\n",
    "print(itwaswritten.format('a','i','u',''))\n",
    "hecorr=rep4+ \"{3}{3}\"+root[0]+\"{0}{0}\"+root[1]+\"{0}{3}\"+root[2]+\"{0}{3}\"\n",
    "print(hecorr.format('a','i','u',''))\n",
    "\n",
    "## Alternatively we can create a dictionary to indicate different morphemes used for different attributes such as person, number, gender, mood\n",
    "## While this is not very simplistic in Semitic morphology, the example used below tries to do a simple concatenation of various morphemes\n",
    "\n",
    "hewrote1=\"{o}{o}\"+root[0]+\"{active}{o}\"+root[1]+\"{past}{o}\"+root[2]+\"{male},{o}\"\n",
    "itwaswritten1=\"{o}{o}\"+root[0]+\"{pass}{o}\"+root[1]+\"{accusative}{o}\"+root[2]+\"{male}{o}\"\n",
    "morph={'active': 'a','pass':'u','past':'a','male':'a','female':'at','sg':'a','transitive':'a','accusative':'i','o':''}\n",
    "print(rep1+hewrote1.format(**morph))\n",
    "print(rep3+itwaswritten1.format(**morph))\n"
   ]
  },
  {
   "cell_type": "markdown",
   "metadata": {},
   "source": [
    "#### Q9. We can also use format() to treat vowel harmony. Choose a simple vowel harmony system and show how this might work\n",
    "\n"
   ]
  },
  {
   "cell_type": "code",
   "execution_count": 15,
   "metadata": {},
   "outputs": [
    {
     "name": "stdout",
     "output_type": "stream",
     "text": [
      "plural of kedi is: kediler\n",
      "Plural of dakika is:dakikalar\n",
      "Plural of kadin is:kadinlar\n",
      "plural of köpru is: köpruler\n"
     ]
    }
   ],
   "source": [
    "## vowel harmony is Turkish plurals suffix of ler is applied to create plurals\n",
    "\n",
    "suf=\"l{}r\"\n",
    "vowel='eiou'\n",
    "input=['kedi','dakika','kadin','köpru']\n",
    "\n",
    "ctr=0\n",
    "\n",
    "for ctr in range(4):\n",
    "    str1=input[ctr]\n",
    "    strlen=len(str1)\n",
    "    if str1[strlen-1] not in vowel:\n",
    "            print(\"Plural of \"+str1+ \" is:\"+str1+suf.format('a'))\n",
    "    \n",
    "    else:\n",
    "            print(\"plural of \"+str1+\" is: \"+str1+suf.format('e'))\n",
    "    \n"
   ]
  },
  {
   "cell_type": "markdown",
   "metadata": {},
   "source": [
    "#### Q10. You can use the dictionary data type in conjunction with the format()command to do translations between two languages. Choose two languages, construct a small dictionary for them, then create some strings with which you can use your dictionary to do translations.\n"
   ]
  },
  {
   "cell_type": "code",
   "execution_count": 16,
   "metadata": {},
   "outputs": [
    {
     "name": "stdout",
     "output_type": "stream",
     "text": [
      "I   fruit  be eat present tense f\n"
     ]
    }
   ],
   "source": [
    "\n",
    "gloss_he ={'main':'I','fal':'fruit','khati':'eat present tense f','hoon':'be','sp':''}\n",
    "\n",
    "val_translate=\"{main}\"+\" \" + \"{sp}\"+ \"  \" +\"{fal}\"+\" \"+ \"{sp}\"+\" \"+\"{hoon}\"+\" \"+ \"{sp}\"+\"{khati}\"\n",
    "print (val_translate.format(**gloss_he))\n",
    "           \n"
   ]
  },
  {
   "cell_type": "markdown",
   "metadata": {
    "scrolled": true
   },
   "source": [
    "#### Q11. Difference between list and string\n",
    "\n"
   ]
  },
  {
   "cell_type": "code",
   "execution_count": 17,
   "metadata": {},
   "outputs": [
    {
     "name": "stdout",
     "output_type": "stream",
     "text": [
      "BCD\n",
      "bcd\n",
      "['c', 'b', 'a']\n",
      "abde  \n"
     ]
    },
    {
     "ename": "TypeError",
     "evalue": "'str' object does not support item assignment",
     "output_type": "error",
     "traceback": [
      "\u001b[1;31m---------------------------------------------------------------------------\u001b[0m",
      "\u001b[1;31mTypeError\u001b[0m                                 Traceback (most recent call last)",
      "\u001b[1;32m<ipython-input-17-b5e499a82539>\u001b[0m in \u001b[0;36m<module>\u001b[1;34m\u001b[0m\n\u001b[0;32m     20\u001b[0m \u001b[0mstr1\u001b[0m\u001b[1;33m=\u001b[0m\u001b[1;34m\"abde  \"\u001b[0m\u001b[1;33m\u001b[0m\u001b[1;33m\u001b[0m\u001b[0m\n\u001b[0;32m     21\u001b[0m \u001b[0mprint\u001b[0m\u001b[1;33m(\u001b[0m\u001b[1;33m(\u001b[0m\u001b[0mstr1\u001b[0m\u001b[1;33m)\u001b[0m\u001b[1;33m)\u001b[0m\u001b[1;33m\u001b[0m\u001b[1;33m\u001b[0m\u001b[0m\n\u001b[1;32m---> 22\u001b[1;33m \u001b[0mstr1\u001b[0m\u001b[1;33m[\u001b[0m\u001b[1;36m0\u001b[0m\u001b[1;33m]\u001b[0m\u001b[1;33m=\u001b[0m\u001b[1;34m\"b\"\u001b[0m\u001b[1;33m\u001b[0m\u001b[1;33m\u001b[0m\u001b[0m\n\u001b[0m\u001b[0;32m     23\u001b[0m \u001b[0mstrl1\u001b[0m\u001b[1;33m=\u001b[0m\u001b[1;33m[\u001b[0m\u001b[1;34m\"a\"\u001b[0m\u001b[1;33m,\u001b[0m\u001b[1;34m\"b\"\u001b[0m\u001b[1;33m,\u001b[0m\u001b[1;34m\"d\"\u001b[0m\u001b[1;33m,\u001b[0m\u001b[1;34m\"e\"\u001b[0m\u001b[1;33m,\u001b[0m\u001b[1;34m\" \"\u001b[0m\u001b[1;33m,\u001b[0m\u001b[1;34m\" \"\u001b[0m\u001b[1;33m]\u001b[0m\u001b[1;33m\u001b[0m\u001b[1;33m\u001b[0m\u001b[0m\n\u001b[0;32m     24\u001b[0m \u001b[0mstrl1\u001b[0m\u001b[1;33m[\u001b[0m\u001b[1;36m0\u001b[0m\u001b[1;33m]\u001b[0m\u001b[1;33m=\u001b[0m\u001b[1;34m\"b\"\u001b[0m\u001b[1;33m\u001b[0m\u001b[1;33m\u001b[0m\u001b[0m\n",
      "\u001b[1;31mTypeError\u001b[0m: 'str' object does not support item assignment"
     ]
    }
   ],
   "source": [
    "### String can only take char values\n",
    "string1=\"xyz\"\n",
    "list1=['x','y','z']\n",
    "list2=[1,2,3]\n",
    "list3 =[0.5,0.25,0.11]\n",
    "\n",
    "### strings operations do not change the original variable without re-assignment\n",
    "x1=\"abc\"\n",
    "x1=\"bcd\"\n",
    "print(x1.upper())\n",
    "print(x1)\n",
    "### list operations alter the list in place\n",
    "xl1=[\"a\",\"b\",\"c\"]\n",
    "xl1.reverse()\n",
    "print(xl1)\n",
    "\n",
    "\n",
    "### immutable strings - cannot reassign part of the string. Can only reassign the name to another string. Lists\n",
    "### elements can be reassigned or altered\n",
    "str1=\"abde  \"\n",
    "print((str1))\n",
    "str1[0]=\"b\"\n",
    "strl1=[\"a\",\"b\",\"d\",\"e\",\" \",\" \"]\n",
    "strl1[0]=\"b\"\n",
    "\n",
    "print(str1)"
   ]
  },
  {
   "cell_type": "markdown",
   "metadata": {},
   "source": [
    "#### Q12. Web: Snoop around on the web and figure out how the set data type works. Explain and exemplify.\n",
    "\n"
   ]
  },
  {
   "cell_type": "code",
   "execution_count": null,
   "metadata": {},
   "outputs": [],
   "source": [
    "## set data type creates an unordered list of elements which can be modified or removed. But they cannot be accessed via indexation\n",
    "## set data type allow operations such as UNION, interesection, difference etc. Set data types also do not allow for duplicates and give \n",
    "## only a unique set of elements\n",
    "\n",
    "set1= set((\"A\",\"A\",\"B\",\"C\"))\n",
    "list1=[\"A\",\"A\",\"B\",\"C\"]\n",
    "print (set1)\n",
    "print(list1)\n",
    "\n",
    "## As seen from the snippet, set data type automatically sorts the data and also removes duplicates\n",
    "## there is no way to modify the value of an element through indexation. This is possible in lists\n",
    "set2=set ((\"America\",\"USSR\",\"India\"))\n",
    "list2=[\"America\",\"USSR\",\"India\"]\n",
    "\n",
    "list2[1]=\"Russia\"\n",
    "#set2[1]=\"Russia\"   # not possible\n",
    "\n",
    "set3 =set((1,2,3))\n",
    "list3=[1,2,3]\n",
    "list4=[1,4,5]\n",
    "set4 =set((1,4,5))\n",
    "set5=set3.union(set4)\n",
    "print(set5)\n",
    "list5=list3+list4\n",
    "print(list5)   # duplication allowed"
   ]
  }
 ],
 "metadata": {
  "kernelspec": {
   "display_name": "Python 3",
   "language": "python",
   "name": "python3"
  },
  "language_info": {
   "codemirror_mode": {
    "name": "ipython",
    "version": 3
   },
   "file_extension": ".py",
   "mimetype": "text/x-python",
   "name": "python",
   "nbconvert_exporter": "python",
   "pygments_lexer": "ipython3",
   "version": "3.8.3"
  }
 },
 "nbformat": 4,
 "nbformat_minor": 4
}
